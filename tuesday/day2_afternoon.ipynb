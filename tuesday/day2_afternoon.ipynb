{
 "cells": [
  {
   "cell_type": "code",
   "execution_count": 1,
   "id": "bf316d71-f163-4359-9fef-9e87f232b533",
   "metadata": {},
   "outputs": [
    {
     "name": "stdout",
     "output_type": "stream",
     "text": [
      "apple\n",
      "banana\n",
      "orange\n"
     ]
    }
   ],
   "source": [
    "fruits = ['apple', 'banana', 'orange']\n",
    "for fruit in fruits:\n",
    "    print(fruit)"
   ]
  },
  {
   "cell_type": "code",
   "execution_count": 2,
   "id": "65ba409a-6b43-4795-b184-f184d96d407b",
   "metadata": {},
   "outputs": [
    {
     "name": "stdout",
     "output_type": "stream",
     "text": [
      "apple\n",
      "banana\n",
      "orange\n",
      "0\n",
      "1\n",
      "2\n",
      "3\n",
      "4\n",
      "h\n",
      "e\n",
      "l\n",
      "l\n",
      "o\n"
     ]
    }
   ],
   "source": [
    "# Loop through a list\n",
    "fruits = ['apple', 'banana', 'orange']\n",
    "for fruit in fruits:\n",
    "    print(fruit)\n",
    "\n",
    "# Loop through a range of numbers\n",
    "for i in range(5):  # 0, 1, 2, 3, 4\n",
    "    print(i)\n",
    "\n",
    "# Loop through a string\n",
    "for letter in \"hello\":\n",
    "    print(letter)"
   ]
  },
  {
   "cell_type": "code",
   "execution_count": 3,
   "id": "6e0b2193-71b1-406c-8f49-580d58819df7",
   "metadata": {},
   "outputs": [],
   "source": [
    "def multiply_by_eight(num):\n",
    "    print(num * 8)"
   ]
  },
  {
   "cell_type": "code",
   "execution_count": 4,
   "id": "111f3578-c174-4e22-b310-fa981930cdec",
   "metadata": {},
   "outputs": [
    {
     "name": "stdout",
     "output_type": "stream",
     "text": [
      "16\n"
     ]
    }
   ],
   "source": [
    "test = multiply_by_eight(2)"
   ]
  },
  {
   "cell_type": "code",
   "execution_count": 5,
   "id": "17a91f98-8294-4838-b446-875633aa519c",
   "metadata": {},
   "outputs": [
    {
     "data": {
      "text/plain": [
       "NoneType"
      ]
     },
     "execution_count": 5,
     "metadata": {},
     "output_type": "execute_result"
    }
   ],
   "source": [
    "type(test)"
   ]
  },
  {
   "cell_type": "code",
   "execution_count": 6,
   "id": "dbb874e5-4cc5-47dd-b3a7-6a64f996de6f",
   "metadata": {},
   "outputs": [],
   "source": [
    "test"
   ]
  },
  {
   "cell_type": "code",
   "execution_count": 7,
   "id": "d067bdb6-2e9c-4120-b8a1-e120c2302b2a",
   "metadata": {},
   "outputs": [
    {
     "name": "stdout",
     "output_type": "stream",
     "text": [
      "None\n"
     ]
    }
   ],
   "source": [
    "print(test)"
   ]
  },
  {
   "cell_type": "code",
   "execution_count": 8,
   "id": "3f693679-1d96-4048-a85e-42f971301769",
   "metadata": {},
   "outputs": [
    {
     "name": "stdout",
     "output_type": "stream",
     "text": [
      "They say that the prospect of being hanged in the morning concentrates a man's mind wonderfully; unfortunately, what the mind inevitably concentrates on is that, in the morning, it will be in a body that is going to be hanged.\n",
      "The man going to be hanged had been named Moist von Lipwig by doting if unwise parents, but he was not going to embarrass the name, insofar as that was still possible, by being hung under it. To the world in general, and particularly on that bit of it known as the death warrant, he was Alfred Spangler.\n",
      "And he took a more positive approach to the situation and had concentrated his mind on the prospect of not being hanged in the morning, and, most particularly, on the prospect of removing all the crumbling mortar from around a stone in his cell wall with a spoon. So far the work had taken him five weeks and reduced the spoon to something like a nail file. Fortunately, no one ever came to change the bedding here, or else they would have discovered the world's heaviest mattress.\n",
      "It was a large and heavy stone that was currently the object of his attentions, and, at some point, a huge staple had been hammered into it as an anchor for manacles.\n",
      "Moist sat down facing the wall, gripped the iron ring in both hands, braced his legs against the stones on either side, and heaved.\n",
      "His shoulders caught fire, and a red mist filled his vision, but the block slid out with a faint and inappropriate tinkling noise. Moist managed to ease it away from the hole and peered inside.\n",
      "At the far end was another block, and the mortar around it looked suspiciously strong and fresh.\n",
      "Just in front of it was a new spoon. It was shiny.\n",
      "As he studied it, he heard the clapping behind him. He turned his head, tendons twanging a little riff of agony, and saw several of the wardens watching him through the bars.\n",
      "\"Well done, Mr. Spangler!\" said one of them. \"Ron here owes me five dollars! I told him you were a sticker!! 'He's a sticker,' I said!\"\n",
      "\"You set this up, did you, Mr. Wilkinson?\" said Moist weakly, watching the glint of light on the spoon.\n",
      "\"Oh, not us, sir. Lord Vetinari's orders. He insists that all condemned prisoners should be offered the prospect of freedom.\"\n",
      "\"Freedom? But there's a damn great stone through there!\"\n",
      "\"Yes, there is that, sir, yes, there is that,\" said the warden. \"It's only the prospect, you see. Not actual free freedom as such. Hah, that'd be a bit daft, eh?\"\n",
      "\"I suppose so, yes,\" said Moist. He didn't say \"you bastards.\" The wardens had treated him quite civilly these past six weeks, and he made a point of getting on with people. He was very, very good at it. People skills were part of his stock-in-trade; they were nearly the whole of it.\n",
      "Besides, these people had big sticks. So, speaking carefully, he added: \"Some people might consider this cruel, Mr. Wilkinson.\"\n",
      "\"Yes, sir, we asked him about that, sir, but he said no, it wasn't. He said it provided\"--his forehead wrinkled \"--occ-you-pay-shun-all ther-rap-py, healthy exercise, prevented moping, and offered that greatest of all treasures, which is Hope, sir.\"\n",
      "\"Hope,\" muttered Moist glumly.\n",
      "\"Not upset, are you, sir?\"\n",
      "\"Upset? Why should I be upset, Mr. Wilkinson?\"\n",
      "\"Only the last bloke we had in this cell, he managed to get down that drain, sir. Very small man. Very agile.\"\n",
      "\n"
     ]
    }
   ],
   "source": [
    "from urllib.request import urlopen\n",
    "\n",
    "url = \"https://mint.westdri.ca/python/data/pratchett.txt\"\n",
    "with urlopen(url) as response:\n",
    "    text = response.read().decode('utf-8')  # decode bytes to string\n",
    "print(text)"
   ]
  },
  {
   "cell_type": "code",
   "execution_count": 9,
   "id": "f8b19f2b-02b9-4ff0-9bda-42131a393b2b",
   "metadata": {},
   "outputs": [
    {
     "data": {
      "text/plain": [
       "str"
      ]
     },
     "execution_count": 9,
     "metadata": {},
     "output_type": "execute_result"
    }
   ],
   "source": [
    "type(url)"
   ]
  },
  {
   "cell_type": "code",
   "execution_count": 10,
   "id": "288e98ab-f3e0-41f9-9a4b-5d63aac3718f",
   "metadata": {},
   "outputs": [
    {
     "name": "stdout",
     "output_type": "stream",
     "text": [
      "They say that the prospect of being hanged in the morning concentrates a man's mind wonderfully; unfortunately, what the mind inevitably concentrates on is that, in the morning, it will be in a body that is going to be hanged.\n",
      "The man going to be hanged had been named Moist von Lipwig by doting if unwise parents, but he was not going to embarrass the name, insofar as that was still possible, by being hung under it. To the world in general, and particularly on that bit of it known as the death warrant, he was Alfred Spangler.\n",
      "And he took a more positive approach to the situation and had concentrated his mind on the prospect of not being hanged in the morning, and, most particularly, on the prospect of removing all the crumbling mortar from around a stone in his cell wall with a spoon. So far the work had taken him five weeks and reduced the spoon to something like a nail file. Fortunately, no one ever came to change the bedding here, or else they would have discovered the world's heaviest mattress.\n",
      "It was a large and heavy stone that was currently the object of his attentions, and, at some point, a huge staple had been hammered into it as an anchor for manacles.\n",
      "Moist sat down facing the wall, gripped the iron ring in both hands, braced his legs against the stones on either side, and heaved.\n",
      "His shoulders caught fire, and a red mist filled his vision, but the block slid out with a faint and inappropriate tinkling noise. Moist managed to ease it away from the hole and peered inside.\n",
      "At the far end was another block, and the mortar around it looked suspiciously strong and fresh.\n",
      "Just in front of it was a new spoon. It was shiny.\n",
      "As he studied it, he heard the clapping behind him. He turned his head, tendons twanging a little riff of agony, and saw several of the wardens watching him through the bars.\n",
      "\"Well done, Mr. Spangler!\" said one of them. \"Ron here owes me five dollars! I told him you were a sticker!! 'He's a sticker,' I said!\"\n",
      "\"You set this up, did you, Mr. Wilkinson?\" said Moist weakly, watching the glint of light on the spoon.\n",
      "\"Oh, not us, sir. Lord Vetinari's orders. He insists that all condemned prisoners should be offered the prospect of freedom.\"\n",
      "\"Freedom? But there's a damn great stone through there!\"\n",
      "\"Yes, there is that, sir, yes, there is that,\" said the warden. \"It's only the prospect, you see. Not actual free freedom as such. Hah, that'd be a bit daft, eh?\"\n",
      "\"I suppose so, yes,\" said Moist. He didn't say \"you bastards.\" The wardens had treated him quite civilly these past six weeks, and he made a point of getting on with people. He was very, very good at it. People skills were part of his stock-in-trade; they were nearly the whole of it.\n",
      "Besides, these people had big sticks. So, speaking carefully, he added: \"Some people might consider this cruel, Mr. Wilkinson.\"\n",
      "\"Yes, sir, we asked him about that, sir, but he said no, it wasn't. He said it provided\"--his forehead wrinkled \"--occ-you-pay-shun-all ther-rap-py, healthy exercise, prevented moping, and offered that greatest of all treasures, which is Hope, sir.\"\n",
      "\"Hope,\" muttered Moist glumly.\n",
      "\"Not upset, are you, sir?\"\n",
      "\"Upset? Why should I be upset, Mr. Wilkinson?\"\n",
      "\"Only the last bloke we had in this cell, he managed to get down that drain, sir. Very small man. Very agile.\"\n",
      "\n"
     ]
    }
   ],
   "source": [
    "import requests\n",
    "\n",
    "url = \"https://mint.westdri.ca/python/data/pratchett.txt\"\n",
    "response = requests.get(url)\n",
    "text = response.text  # already decoded as string\n",
    "print(text)"
   ]
  },
  {
   "cell_type": "code",
   "execution_count": 11,
   "id": "39df81e7-fc8f-439b-86ed-ece706fa0d86",
   "metadata": {},
   "outputs": [],
   "source": [
    "import requests"
   ]
  },
  {
   "cell_type": "code",
   "execution_count": 12,
   "id": "e1ec939f-7e77-485f-96f4-b22c28a6362d",
   "metadata": {},
   "outputs": [],
   "source": [
    "url = \"https://mint.westdri.ca/python/data/pratchett.txt\""
   ]
  },
  {
   "cell_type": "code",
   "execution_count": 13,
   "id": "7be394ed-a01e-414e-a3e6-5be2c38e2c94",
   "metadata": {},
   "outputs": [
    {
     "name": "stdout",
     "output_type": "stream",
     "text": [
      "https://mint.westdri.ca/python/data/pratchett.txt\n"
     ]
    }
   ],
   "source": [
    "print(url)"
   ]
  },
  {
   "cell_type": "code",
   "execution_count": 14,
   "id": "f134ae1f-4159-443d-a2bc-b3389c70228a",
   "metadata": {},
   "outputs": [
    {
     "data": {
      "text/plain": [
       "str"
      ]
     },
     "execution_count": 14,
     "metadata": {},
     "output_type": "execute_result"
    }
   ],
   "source": [
    "type(url)"
   ]
  },
  {
   "cell_type": "code",
   "execution_count": 15,
   "id": "5d137eed-1865-4b56-83a1-17949ca1c3fb",
   "metadata": {},
   "outputs": [
    {
     "data": {
      "text/plain": [
       "<Response [200]>"
      ]
     },
     "execution_count": 15,
     "metadata": {},
     "output_type": "execute_result"
    }
   ],
   "source": [
    "requests.get(url)"
   ]
  },
  {
   "cell_type": "code",
   "execution_count": 16,
   "id": "08e6d026-bc0a-44fa-9451-7605f0d8895b",
   "metadata": {},
   "outputs": [],
   "source": [
    "response = requests.get(url)"
   ]
  },
  {
   "cell_type": "code",
   "execution_count": null,
   "id": "eb77ede4-29a1-4391-b1a7-29ee5bda4ede",
   "metadata": {},
   "outputs": [],
   "source": [
    "x"
   ]
  },
  {
   "cell_type": "code",
   "execution_count": null,
   "id": "cc7c60ee-8638-4458-ba64-9666c9a6dd66",
   "metadata": {},
   "outputs": [],
   "source": []
  },
  {
   "cell_type": "code",
   "execution_count": 17,
   "id": "361d9a86-f31c-492e-a629-92055e998948",
   "metadata": {},
   "outputs": [
    {
     "name": "stdout",
     "output_type": "stream",
     "text": [
      "<Response [200]>\n"
     ]
    }
   ],
   "source": [
    "print(response)"
   ]
  },
  {
   "cell_type": "code",
   "execution_count": 18,
   "id": "39649857-37c0-4e98-a775-6287c63e38d5",
   "metadata": {},
   "outputs": [
    {
     "data": {
      "text/plain": [
       "requests.models.Response"
      ]
     },
     "execution_count": 18,
     "metadata": {},
     "output_type": "execute_result"
    }
   ],
   "source": [
    "type(response)"
   ]
  },
  {
   "cell_type": "code",
   "execution_count": 19,
   "id": "5e09b202-3e0f-48c3-a7e6-d5f9b8be9ca0",
   "metadata": {},
   "outputs": [],
   "source": [
    "text = response.text"
   ]
  },
  {
   "cell_type": "code",
   "execution_count": 22,
   "id": "50f59a42-d961-4e7e-8a43-d01c318fa043",
   "metadata": {},
   "outputs": [
    {
     "data": {
      "text/plain": [
       "'https://mint.westdri.ca/python/data/pratchett.txt'"
      ]
     },
     "execution_count": 22,
     "metadata": {},
     "output_type": "execute_result"
    }
   ],
   "source": [
    "url"
   ]
  },
  {
   "cell_type": "code",
   "execution_count": 19,
   "id": "fc6ae30a-5b01-4730-8192-2ab2bd85c1cd",
   "metadata": {},
   "outputs": [],
   "source": [
    "text = response.text"
   ]
  },
  {
   "cell_type": "code",
   "execution_count": 20,
   "id": "190aa1b8-6d9f-40e1-a208-056ca3fef175",
   "metadata": {},
   "outputs": [
    {
     "data": {
      "text/plain": [
       "str"
      ]
     },
     "execution_count": 20,
     "metadata": {},
     "output_type": "execute_result"
    }
   ],
   "source": [
    "type(text)"
   ]
  },
  {
   "cell_type": "code",
   "execution_count": 21,
   "id": "9d68ac3d-a110-4263-b288-b06408799a9d",
   "metadata": {},
   "outputs": [
    {
     "name": "stdout",
     "output_type": "stream",
     "text": [
      "They say that the prospect of being hanged in the morning concentrates a man's mind wonderfully; unfortunately, what the mind inevitably concentrates on is that, in the morning, it will be in a body that is going to be hanged.\n",
      "The man going to be hanged had been named Moist von Lipwig by doting if unwise parents, but he was not going to embarrass the name, insofar as that was still possible, by being hung under it. To the world in general, and particularly on that bit of it known as the death warrant, he was Alfred Spangler.\n",
      "And he took a more positive approach to the situation and had concentrated his mind on the prospect of not being hanged in the morning, and, most particularly, on the prospect of removing all the crumbling mortar from around a stone in his cell wall with a spoon. So far the work had taken him five weeks and reduced the spoon to something like a nail file. Fortunately, no one ever came to change the bedding here, or else they would have discovered the world's heaviest mattress.\n",
      "It was a large and heavy stone that was currently the object of his attentions, and, at some point, a huge staple had been hammered into it as an anchor for manacles.\n",
      "Moist sat down facing the wall, gripped the iron ring in both hands, braced his legs against the stones on either side, and heaved.\n",
      "His shoulders caught fire, and a red mist filled his vision, but the block slid out with a faint and inappropriate tinkling noise. Moist managed to ease it away from the hole and peered inside.\n",
      "At the far end was another block, and the mortar around it looked suspiciously strong and fresh.\n",
      "Just in front of it was a new spoon. It was shiny.\n",
      "As he studied it, he heard the clapping behind him. He turned his head, tendons twanging a little riff of agony, and saw several of the wardens watching him through the bars.\n",
      "\"Well done, Mr. Spangler!\" said one of them. \"Ron here owes me five dollars! I told him you were a sticker!! 'He's a sticker,' I said!\"\n",
      "\"You set this up, did you, Mr. Wilkinson?\" said Moist weakly, watching the glint of light on the spoon.\n",
      "\"Oh, not us, sir. Lord Vetinari's orders. He insists that all condemned prisoners should be offered the prospect of freedom.\"\n",
      "\"Freedom? But there's a damn great stone through there!\"\n",
      "\"Yes, there is that, sir, yes, there is that,\" said the warden. \"It's only the prospect, you see. Not actual free freedom as such. Hah, that'd be a bit daft, eh?\"\n",
      "\"I suppose so, yes,\" said Moist. He didn't say \"you bastards.\" The wardens had treated him quite civilly these past six weeks, and he made a point of getting on with people. He was very, very good at it. People skills were part of his stock-in-trade; they were nearly the whole of it.\n",
      "Besides, these people had big sticks. So, speaking carefully, he added: \"Some people might consider this cruel, Mr. Wilkinson.\"\n",
      "\"Yes, sir, we asked him about that, sir, but he said no, it wasn't. He said it provided\"--his forehead wrinkled \"--occ-you-pay-shun-all ther-rap-py, healthy exercise, prevented moping, and offered that greatest of all treasures, which is Hope, sir.\"\n",
      "\"Hope,\" muttered Moist glumly.\n",
      "\"Not upset, are you, sir?\"\n",
      "\"Upset? Why should I be upset, Mr. Wilkinson?\"\n",
      "\"Only the last bloke we had in this cell, he managed to get down that drain, sir. Very small man. Very agile.\"\n",
      "\n"
     ]
    }
   ],
   "source": [
    "print(text)"
   ]
  },
  {
   "cell_type": "code",
   "execution_count": 23,
   "id": "8b509934-5efb-4fa8-a473-bd1f7dfaa0fb",
   "metadata": {},
   "outputs": [],
   "source": [
    "test"
   ]
  },
  {
   "cell_type": "code",
   "execution_count": 24,
   "id": "66105e7c-d648-4e04-af63-4b65de03a0fa",
   "metadata": {},
   "outputs": [
    {
     "name": "stdout",
     "output_type": "stream",
     "text": [
      "Number of words: 590\n"
     ]
    }
   ],
   "source": [
    "# Split the text into words using split()\n",
    "words = text.split()\n",
    "\n",
    "# Count the number of words\n",
    "num_words = len(words)\n",
    "\n",
    "print(\"Number of words:\", num_words)"
   ]
  },
  {
   "cell_type": "code",
   "execution_count": 25,
   "id": "63781dac-edb5-4439-942f-8d94a1641af3",
   "metadata": {},
   "outputs": [
    {
     "name": "stdout",
     "output_type": "stream",
     "text": [
      "Help on built-in function len in module builtins:\n",
      "\n",
      "len(obj, /)\n",
      "    Return the number of items in a container.\n",
      "\n"
     ]
    }
   ],
   "source": [
    "help(len)"
   ]
  },
  {
   "cell_type": "code",
   "execution_count": 26,
   "id": "ef59db76-ce25-480b-859d-e353a429183c",
   "metadata": {},
   "outputs": [],
   "source": [
    "words = text.split()"
   ]
  },
  {
   "cell_type": "code",
   "execution_count": 27,
   "id": "f2131e2b-efd0-4402-8445-12950ed825e5",
   "metadata": {},
   "outputs": [
    {
     "data": {
      "text/plain": [
       "list"
      ]
     },
     "execution_count": 27,
     "metadata": {},
     "output_type": "execute_result"
    }
   ],
   "source": [
    "type(words)"
   ]
  },
  {
   "cell_type": "code",
   "execution_count": 28,
   "id": "62917701-f2f1-49c6-b970-d6338bde9fe3",
   "metadata": {},
   "outputs": [
    {
     "data": {
      "text/plain": [
       "str"
      ]
     },
     "execution_count": 28,
     "metadata": {},
     "output_type": "execute_result"
    }
   ],
   "source": [
    "type(text)"
   ]
  },
  {
   "cell_type": "code",
   "execution_count": 29,
   "id": "6774469d-c8a6-4f53-bd57-7b2707318205",
   "metadata": {},
   "outputs": [
    {
     "data": {
      "text/plain": [
       "3294"
      ]
     },
     "execution_count": 29,
     "metadata": {},
     "output_type": "execute_result"
    }
   ],
   "source": [
    "len(text)"
   ]
  },
  {
   "cell_type": "code",
   "execution_count": 30,
   "id": "5462b778-24af-49af-8e28-9fce95769317",
   "metadata": {
    "collapsed": true,
    "jupyter": {
     "outputs_hidden": true
    }
   },
   "outputs": [
    {
     "name": "stdout",
     "output_type": "stream",
     "text": [
      "They say that the prospect of being hanged in the morning concentrates a man's mind wonderfully; unfortunately, what the mind inevitably concentrates on is that, in the morning, it will be in a body that is going to be hanged.\n",
      "The man going to be hanged had been named Moist von Lipwig by doting if unwise parents, but he was not going to embarrass the name, insofar as that was still possible, by being hung under it. To the world in general, and particularly on that bit of it known as the death warrant, he was Alfred Spangler.\n",
      "And he took a more positive approach to the situation and had concentrated his mind on the prospect of not being hanged in the morning, and, most particularly, on the prospect of removing all the crumbling mortar from around a stone in his cell wall with a spoon. So far the work had taken him five weeks and reduced the spoon to something like a nail file. Fortunately, no one ever came to change the bedding here, or else they would have discovered the world's heaviest mattress.\n",
      "It was a large and heavy stone that was currently the object of his attentions, and, at some point, a huge staple had been hammered into it as an anchor for manacles.\n",
      "Moist sat down facing the wall, gripped the iron ring in both hands, braced his legs against the stones on either side, and heaved.\n",
      "His shoulders caught fire, and a red mist filled his vision, but the block slid out with a faint and inappropriate tinkling noise. Moist managed to ease it away from the hole and peered inside.\n",
      "At the far end was another block, and the mortar around it looked suspiciously strong and fresh.\n",
      "Just in front of it was a new spoon. It was shiny.\n",
      "As he studied it, he heard the clapping behind him. He turned his head, tendons twanging a little riff of agony, and saw several of the wardens watching him through the bars.\n",
      "\"Well done, Mr. Spangler!\" said one of them. \"Ron here owes me five dollars! I told him you were a sticker!! 'He's a sticker,' I said!\"\n",
      "\"You set this up, did you, Mr. Wilkinson?\" said Moist weakly, watching the glint of light on the spoon.\n",
      "\"Oh, not us, sir. Lord Vetinari's orders. He insists that all condemned prisoners should be offered the prospect of freedom.\"\n",
      "\"Freedom? But there's a damn great stone through there!\"\n",
      "\"Yes, there is that, sir, yes, there is that,\" said the warden. \"It's only the prospect, you see. Not actual free freedom as such. Hah, that'd be a bit daft, eh?\"\n",
      "\"I suppose so, yes,\" said Moist. He didn't say \"you bastards.\" The wardens had treated him quite civilly these past six weeks, and he made a point of getting on with people. He was very, very good at it. People skills were part of his stock-in-trade; they were nearly the whole of it.\n",
      "Besides, these people had big sticks. So, speaking carefully, he added: \"Some people might consider this cruel, Mr. Wilkinson.\"\n",
      "\"Yes, sir, we asked him about that, sir, but he said no, it wasn't. He said it provided\"--his forehead wrinkled \"--occ-you-pay-shun-all ther-rap-py, healthy exercise, prevented moping, and offered that greatest of all treasures, which is Hope, sir.\"\n",
      "\"Hope,\" muttered Moist glumly.\n",
      "\"Not upset, are you, sir?\"\n",
      "\"Upset? Why should I be upset, Mr. Wilkinson?\"\n",
      "\"Only the last bloke we had in this cell, he managed to get down that drain, sir. Very small man. Very agile.\"\n",
      "\n"
     ]
    }
   ],
   "source": [
    "print(text)"
   ]
  },
  {
   "cell_type": "code",
   "execution_count": 31,
   "id": "ad34560a-3c02-4c72-afdf-282cf06feb46",
   "metadata": {},
   "outputs": [
    {
     "name": "stdout",
     "output_type": "stream",
     "text": [
      "['They', 'say', 'that', 'the', 'prospect', 'of', 'being', 'hanged', 'in', 'the', 'morning', 'concentrates', 'a', \"man's\", 'mind', 'wonderfully;', 'unfortunately,', 'what', 'the', 'mind', 'inevitably', 'concentrates', 'on', 'is', 'that,', 'in', 'the', 'morning,', 'it', 'will', 'be', 'in', 'a', 'body', 'that', 'is', 'going', 'to', 'be', 'hanged.', 'The', 'man', 'going', 'to', 'be', 'hanged', 'had', 'been', 'named', 'Moist', 'von', 'Lipwig', 'by', 'doting', 'if', 'unwise', 'parents,', 'but', 'he', 'was', 'not', 'going', 'to', 'embarrass', 'the', 'name,', 'insofar', 'as', 'that', 'was', 'still', 'possible,', 'by', 'being', 'hung', 'under', 'it.', 'To', 'the', 'world', 'in', 'general,', 'and', 'particularly', 'on', 'that', 'bit', 'of', 'it', 'known', 'as', 'the', 'death', 'warrant,', 'he', 'was', 'Alfred', 'Spangler.', 'And', 'he', 'took', 'a', 'more', 'positive', 'approach', 'to', 'the', 'situation', 'and', 'had', 'concentrated', 'his', 'mind', 'on', 'the', 'prospect', 'of', 'not', 'being', 'hanged', 'in', 'the', 'morning,', 'and,', 'most', 'particularly,', 'on', 'the', 'prospect', 'of', 'removing', 'all', 'the', 'crumbling', 'mortar', 'from', 'around', 'a', 'stone', 'in', 'his', 'cell', 'wall', 'with', 'a', 'spoon.', 'So', 'far', 'the', 'work', 'had', 'taken', 'him', 'five', 'weeks', 'and', 'reduced', 'the', 'spoon', 'to', 'something', 'like', 'a', 'nail', 'file.', 'Fortunately,', 'no', 'one', 'ever', 'came', 'to', 'change', 'the', 'bedding', 'here,', 'or', 'else', 'they', 'would', 'have', 'discovered', 'the', \"world's\", 'heaviest', 'mattress.', 'It', 'was', 'a', 'large', 'and', 'heavy', 'stone', 'that', 'was', 'currently', 'the', 'object', 'of', 'his', 'attentions,', 'and,', 'at', 'some', 'point,', 'a', 'huge', 'staple', 'had', 'been', 'hammered', 'into', 'it', 'as', 'an', 'anchor', 'for', 'manacles.', 'Moist', 'sat', 'down', 'facing', 'the', 'wall,', 'gripped', 'the', 'iron', 'ring', 'in', 'both', 'hands,', 'braced', 'his', 'legs', 'against', 'the', 'stones', 'on', 'either', 'side,', 'and', 'heaved.', 'His', 'shoulders', 'caught', 'fire,', 'and', 'a', 'red', 'mist', 'filled', 'his', 'vision,', 'but', 'the', 'block', 'slid', 'out', 'with', 'a', 'faint', 'and', 'inappropriate', 'tinkling', 'noise.', 'Moist', 'managed', 'to', 'ease', 'it', 'away', 'from', 'the', 'hole', 'and', 'peered', 'inside.', 'At', 'the', 'far', 'end', 'was', 'another', 'block,', 'and', 'the', 'mortar', 'around', 'it', 'looked', 'suspiciously', 'strong', 'and', 'fresh.', 'Just', 'in', 'front', 'of', 'it', 'was', 'a', 'new', 'spoon.', 'It', 'was', 'shiny.', 'As', 'he', 'studied', 'it,', 'he', 'heard', 'the', 'clapping', 'behind', 'him.', 'He', 'turned', 'his', 'head,', 'tendons', 'twanging', 'a', 'little', 'riff', 'of', 'agony,', 'and', 'saw', 'several', 'of', 'the', 'wardens', 'watching', 'him', 'through', 'the', 'bars.', '\"Well', 'done,', 'Mr.', 'Spangler!\"', 'said', 'one', 'of', 'them.', '\"Ron', 'here', 'owes', 'me', 'five', 'dollars!', 'I', 'told', 'him', 'you', 'were', 'a', 'sticker!!', \"'He's\", 'a', \"sticker,'\", 'I', 'said!\"', '\"You', 'set', 'this', 'up,', 'did', 'you,', 'Mr.', 'Wilkinson?\"', 'said', 'Moist', 'weakly,', 'watching', 'the', 'glint', 'of', 'light', 'on', 'the', 'spoon.', '\"Oh,', 'not', 'us,', 'sir.', 'Lord', \"Vetinari's\", 'orders.', 'He', 'insists', 'that', 'all', 'condemned', 'prisoners', 'should', 'be', 'offered', 'the', 'prospect', 'of', 'freedom.\"', '\"Freedom?', 'But', \"there's\", 'a', 'damn', 'great', 'stone', 'through', 'there!\"', '\"Yes,', 'there', 'is', 'that,', 'sir,', 'yes,', 'there', 'is', 'that,\"', 'said', 'the', 'warden.', '\"It\\'s', 'only', 'the', 'prospect,', 'you', 'see.', 'Not', 'actual', 'free', 'freedom', 'as', 'such.', 'Hah,', \"that'd\", 'be', 'a', 'bit', 'daft,', 'eh?\"', '\"I', 'suppose', 'so,', 'yes,\"', 'said', 'Moist.', 'He', \"didn't\", 'say', '\"you', 'bastards.\"', 'The', 'wardens', 'had', 'treated', 'him', 'quite', 'civilly', 'these', 'past', 'six', 'weeks,', 'and', 'he', 'made', 'a', 'point', 'of', 'getting', 'on', 'with', 'people.', 'He', 'was', 'very,', 'very', 'good', 'at', 'it.', 'People', 'skills', 'were', 'part', 'of', 'his', 'stock-in-trade;', 'they', 'were', 'nearly', 'the', 'whole', 'of', 'it.', 'Besides,', 'these', 'people', 'had', 'big', 'sticks.', 'So,', 'speaking', 'carefully,', 'he', 'added:', '\"Some', 'people', 'might', 'consider', 'this', 'cruel,', 'Mr.', 'Wilkinson.\"', '\"Yes,', 'sir,', 'we', 'asked', 'him', 'about', 'that,', 'sir,', 'but', 'he', 'said', 'no,', 'it', \"wasn't.\", 'He', 'said', 'it', 'provided\"--his', 'forehead', 'wrinkled', '\"--occ-you-pay-shun-all', 'ther-rap-py,', 'healthy', 'exercise,', 'prevented', 'moping,', 'and', 'offered', 'that', 'greatest', 'of', 'all', 'treasures,', 'which', 'is', 'Hope,', 'sir.\"', '\"Hope,\"', 'muttered', 'Moist', 'glumly.', '\"Not', 'upset,', 'are', 'you,', 'sir?\"', '\"Upset?', 'Why', 'should', 'I', 'be', 'upset,', 'Mr.', 'Wilkinson?\"', '\"Only', 'the', 'last', 'bloke', 'we', 'had', 'in', 'this', 'cell,', 'he', 'managed', 'to', 'get', 'down', 'that', 'drain,', 'sir.', 'Very', 'small', 'man.', 'Very', 'agile.\"']\n"
     ]
    }
   ],
   "source": [
    "print(words)"
   ]
  },
  {
   "cell_type": "code",
   "execution_count": 32,
   "id": "2143e4f9-ca09-4486-9f4b-716e8e7dba08",
   "metadata": {},
   "outputs": [
    {
     "data": {
      "text/plain": [
       "'They'"
      ]
     },
     "execution_count": 32,
     "metadata": {},
     "output_type": "execute_result"
    }
   ],
   "source": [
    "words[0]"
   ]
  },
  {
   "cell_type": "code",
   "execution_count": 33,
   "id": "7ff6aaf6-3b47-4811-add7-6b51a77fedaf",
   "metadata": {},
   "outputs": [
    {
     "data": {
      "text/plain": [
       "list"
      ]
     },
     "execution_count": 33,
     "metadata": {},
     "output_type": "execute_result"
    }
   ],
   "source": [
    "type(words)"
   ]
  },
  {
   "cell_type": "code",
   "execution_count": 34,
   "id": "6d6ec636-2a4a-48a7-9e94-f9b002b56ba5",
   "metadata": {},
   "outputs": [
    {
     "data": {
      "text/plain": [
       "str"
      ]
     },
     "execution_count": 34,
     "metadata": {},
     "output_type": "execute_result"
    }
   ],
   "source": [
    "type(words[0])"
   ]
  },
  {
   "cell_type": "code",
   "execution_count": 35,
   "id": "09e69467-1271-493c-974f-3e169ed74e28",
   "metadata": {},
   "outputs": [
    {
     "name": "stdout",
     "output_type": "stream",
     "text": [
      "They say that the prospect of being hanged in the morning concentrates a man's mind wonderfully; unfortunately, what the mind inevitably concentrates on is that, in the morning, it will be in a body that is going to be hanged.\n",
      "The man going to be hanged had been named Moist von Lipwig by doting if unwise parents, but he was not going to embarrass the name, insofar as that was still possible, by being hung under it. To the world in general, and particularly on that bit of it known as the death warrant, he was Alfred Spangler.\n",
      "And he took a more positive approach to the situation and had concentrated his mind on the prospect of not being hanged in the morning, and, most particularly, on the prospect of removing all the crumbling mortar from around a stone in his cell wall with a spoon. So far the work had taken him five weeks and reduced the spoon to something like a nail file. Fortunately, no one ever came to change the bedding here, or else they would have discovered the world's heaviest mattress.\n",
      "It was a large and heavy stone that was currently the object of his attentions, and, at some point, a huge staple had been hammered into it as an anchor for manacles.\n",
      "Moist sat down facing the wall, gripped the iron ring in both hands, braced his legs against the stones on either side, and heaved.\n",
      "His shoulders caught fire, and a red mist filled his vision, but the block slid out with a faint and inappropriate tinkling noise. Moist managed to ease it away from the hole and peered inside.\n",
      "At the far end was another block, and the mortar around it looked suspiciously strong and fresh.\n",
      "Just in front of it was a new spoon. It was shiny.\n",
      "As he studied it, he heard the clapping behind him. He turned his head, tendons twanging a little riff of agony, and saw several of the wardens watching him through the bars.\n",
      "\"Well done, Mr. Spangler!\" said one of them. \"Ron here owes me five dollars! I told him you were a sticker!! 'He's a sticker,' I said!\"\n",
      "\"You set this up, did you, Mr. Wilkinson?\" said Moist weakly, watching the glint of light on the spoon.\n",
      "\"Oh, not us, sir. Lord Vetinari's orders. He insists that all condemned prisoners should be offered the prospect of freedom.\"\n",
      "\"Freedom? But there's a damn great stone through there!\"\n",
      "\"Yes, there is that, sir, yes, there is that,\" said the warden. \"It's only the prospect, you see. Not actual free freedom as such. Hah, that'd be a bit daft, eh?\"\n",
      "\"I suppose so, yes,\" said Moist. He didn't say \"you bastards.\" The wardens had treated him quite civilly these past six weeks, and he made a point of getting on with people. He was very, very good at it. People skills were part of his stock-in-trade; they were nearly the whole of it.\n",
      "Besides, these people had big sticks. So, speaking carefully, he added: \"Some people might consider this cruel, Mr. Wilkinson.\"\n",
      "\"Yes, sir, we asked him about that, sir, but he said no, it wasn't. He said it provided\"--his forehead wrinkled \"--occ-you-pay-shun-all ther-rap-py, healthy exercise, prevented moping, and offered that greatest of all treasures, which is Hope, sir.\"\n",
      "\"Hope,\" muttered Moist glumly.\n",
      "\"Not upset, are you, sir?\"\n",
      "\"Upset? Why should I be upset, Mr. Wilkinson?\"\n",
      "\"Only the last bloke we had in this cell, he managed to get down that drain, sir. Very small man. Very agile.\"\n",
      "\n"
     ]
    }
   ],
   "source": [
    "print(text)"
   ]
  },
  {
   "cell_type": "code",
   "execution_count": 36,
   "id": "75cc6286-d806-4ff1-935a-9f13e6211142",
   "metadata": {},
   "outputs": [],
   "source": [
    "pattern = r'([\"\\'])(?:(?=(\\\\?))\\2.)*?\\1'"
   ]
  },
  {
   "cell_type": "code",
   "execution_count": 37,
   "id": "e99b1aac-bf99-491e-97c8-4cd66d37667b",
   "metadata": {},
   "outputs": [
    {
     "data": {
      "text/plain": [
       "str"
      ]
     },
     "execution_count": 37,
     "metadata": {},
     "output_type": "execute_result"
    }
   ],
   "source": [
    "type(pattern)"
   ]
  },
  {
   "cell_type": "code",
   "execution_count": 40,
   "id": "2263e283-3193-47cc-ad14-dd704fd90bc1",
   "metadata": {},
   "outputs": [],
   "source": [
    "import re\n",
    "matches = re.findall(pattern, text, re.DOTALL)"
   ]
  },
  {
   "cell_type": "code",
   "execution_count": 41,
   "id": "625c4a20-4b5e-42c3-979b-36ded04e49ae",
   "metadata": {},
   "outputs": [
    {
     "data": {
      "text/plain": [
       "list"
      ]
     },
     "execution_count": 41,
     "metadata": {},
     "output_type": "execute_result"
    }
   ],
   "source": [
    "type(matches)"
   ]
  },
  {
   "cell_type": "code",
   "execution_count": 42,
   "id": "e718c23d-1408-4124-ba44-078ea8457df2",
   "metadata": {},
   "outputs": [
    {
     "name": "stdout",
     "output_type": "stream",
     "text": [
      "[(\"'\", ''), ('\"', ''), ('\"', ''), ('\"', ''), ('\"', ''), ('\"', ''), ('\"', ''), ('\"', ''), ('\"', ''), (\"'\", ''), ('\"', ''), ('\"', ''), ('\"', ''), ('\"', ''), ('\"', '')]\n"
     ]
    }
   ],
   "source": [
    "print(matches)"
   ]
  },
  {
   "cell_type": "code",
   "execution_count": 43,
   "id": "77c923f5-9ab1-484c-9cd9-e4cc4153f38b",
   "metadata": {},
   "outputs": [],
   "source": [
    "quotes = [match[0] for match in re.findall(r'([\"\\'])(.*?)(\\1)', text, re.DOTALL)]"
   ]
  },
  {
   "cell_type": "code",
   "execution_count": 44,
   "id": "dd3003db-0f2b-45a7-8a8f-683b04d7799a",
   "metadata": {},
   "outputs": [
    {
     "name": "stdout",
     "output_type": "stream",
     "text": [
      "[\"'\", '\"', '\"', '\"', '\"', '\"', '\"', '\"', '\"', \"'\", '\"', '\"', '\"', '\"', '\"']\n"
     ]
    }
   ],
   "source": [
    "print(quotes)"
   ]
  },
  {
   "cell_type": "code",
   "execution_count": 45,
   "id": "af7f8ee9-7226-4d45-9487-fa2d0a8a5c64",
   "metadata": {},
   "outputs": [
    {
     "ename": "IndexError",
     "evalue": "string index out of range",
     "output_type": "error",
     "traceback": [
      "\u001b[91m---------------------------------------------------------------------------\u001b[39m",
      "\u001b[91mIndexError\u001b[39m                                Traceback (most recent call last)",
      "\u001b[96mCell\u001b[39m\u001b[96m \u001b[39m\u001b[32mIn[45]\u001b[39m\u001b[32m, line 2\u001b[39m\n\u001b[92m      1\u001b[39m \u001b[38;5;81mfor\u001b[39m\u001b[38;5;15m \u001b[39m\u001b[38;5;15mquote\u001b[39m\u001b[38;5;15m \u001b[39m\u001b[38;5;204min\u001b[39m\u001b[38;5;15m \u001b[39m\u001b[38;5;15mquotes\u001b[39m\u001b[38;5;15m:\u001b[39m\n\u001b[92m----> \u001b[39m\u001b[92m2\u001b[39m \u001b[38;5;15m    \u001b[39m\u001b[38;5;15mprint\u001b[39m\u001b[38;5;15m(\u001b[39m\u001b[38;5;15;43mquote\u001b[39;49m\u001b[38;5;15;43m[\u001b[39;49m\u001b[38;5;141;43m1\u001b[39;49m\u001b[38;5;15;43m]\u001b[39;49m\u001b[38;5;15m)\u001b[39m\n",
      "\u001b[91mIndexError\u001b[39m: string index out of range"
     ]
    }
   ],
   "source": [
    "for quote in quotes:\n",
    "    print(quote[1])"
   ]
  },
  {
   "cell_type": "code",
   "execution_count": 46,
   "id": "a9b1a5bf-48c9-4b45-a51f-44630140f663",
   "metadata": {},
   "outputs": [],
   "source": [
    "quotes = re.findall(r'\"(.*?)\"', text)"
   ]
  },
  {
   "cell_type": "code",
   "execution_count": 47,
   "id": "e4e71db6-a017-44ce-83e2-11c281c492bc",
   "metadata": {},
   "outputs": [
    {
     "name": "stdout",
     "output_type": "stream",
     "text": [
      "['Well done, Mr. Spangler!', \"Ron here owes me five dollars! I told him you were a sticker!! 'He's a sticker,' I said!\", 'You set this up, did you, Mr. Wilkinson?', \"Oh, not us, sir. Lord Vetinari's orders. He insists that all condemned prisoners should be offered the prospect of freedom.\", \"Freedom? But there's a damn great stone through there!\", 'Yes, there is that, sir, yes, there is that,', \"It's only the prospect, you see. Not actual free freedom as such. Hah, that'd be a bit daft, eh?\", 'I suppose so, yes,', 'you bastards.', 'Some people might consider this cruel, Mr. Wilkinson.', \"Yes, sir, we asked him about that, sir, but he said no, it wasn't. He said it provided\", '--occ-you-pay-shun-all ther-rap-py, healthy exercise, prevented moping, and offered that greatest of all treasures, which is Hope, sir.', 'Hope,', 'Not upset, are you, sir?', 'Upset? Why should I be upset, Mr. Wilkinson?', 'Only the last bloke we had in this cell, he managed to get down that drain, sir. Very small man. Very agile.']\n"
     ]
    }
   ],
   "source": [
    "print(quotes)"
   ]
  },
  {
   "cell_type": "code",
   "execution_count": 49,
   "id": "6d5e88fd-a927-4c7c-a261-0d775ba81f53",
   "metadata": {},
   "outputs": [
    {
     "data": {
      "text/plain": [
       "list"
      ]
     },
     "execution_count": 49,
     "metadata": {},
     "output_type": "execute_result"
    }
   ],
   "source": [
    "type(quotes)"
   ]
  },
  {
   "cell_type": "code",
   "execution_count": 50,
   "id": "b0b65903-8baf-4898-b836-68ab3e528d84",
   "metadata": {},
   "outputs": [
    {
     "data": {
      "text/plain": [
       "16"
      ]
     },
     "execution_count": 50,
     "metadata": {},
     "output_type": "execute_result"
    }
   ],
   "source": [
    "len(quotes)"
   ]
  },
  {
   "cell_type": "code",
   "execution_count": 54,
   "id": "98dd8264-9d2f-4108-a9bb-47a4f827f283",
   "metadata": {},
   "outputs": [
    {
     "name": "stdout",
     "output_type": "stream",
     "text": [
      "Well done, Mr. Spangler!\n",
      "\n",
      "Ron here owes me five dollars! I told him you were a sticker!! 'He's a sticker,' I said!\n",
      "\n",
      "You set this up, did you, Mr. Wilkinson?\n",
      "\n",
      "Oh, not us, sir. Lord Vetinari's orders. He insists that all condemned prisoners should be offered the prospect of freedom.\n",
      "\n",
      "Freedom? But there's a damn great stone through there!\n",
      "\n",
      "Yes, there is that, sir, yes, there is that,\n",
      "\n",
      "It's only the prospect, you see. Not actual free freedom as such. Hah, that'd be a bit daft, eh?\n",
      "\n",
      "I suppose so, yes,\n",
      "\n",
      "you bastards.\n",
      "\n",
      "Some people might consider this cruel, Mr. Wilkinson.\n",
      "\n",
      "Yes, sir, we asked him about that, sir, but he said no, it wasn't. He said it provided\n",
      "\n",
      "--occ-you-pay-shun-all ther-rap-py, healthy exercise, prevented moping, and offered that greatest of all treasures, which is Hope, sir.\n",
      "\n",
      "Hope,\n",
      "\n",
      "Not upset, are you, sir?\n",
      "\n",
      "Upset? Why should I be upset, Mr. Wilkinson?\n",
      "\n",
      "Only the last bloke we had in this cell, he managed to get down that drain, sir. Very small man. Very agile.\n",
      "\n"
     ]
    }
   ],
   "source": [
    "for quote in quotes:\n",
    "    print(quote + '\\n')"
   ]
  },
  {
   "cell_type": "code",
   "execution_count": 52,
   "id": "fb701fb0-2a85-4856-9c2c-8e7cf060df8e",
   "metadata": {},
   "outputs": [
    {
     "data": {
      "text/plain": [
       "'test to try.'"
      ]
     },
     "execution_count": 52,
     "metadata": {},
     "output_type": "execute_result"
    }
   ],
   "source": [
    "'test' + ' to try.'"
   ]
  },
  {
   "cell_type": "code",
   "execution_count": 53,
   "id": "e8e5aec3-0ee1-46d7-b8f1-e0d44d6a857b",
   "metadata": {},
   "outputs": [
    {
     "data": {
      "text/plain": [
       "'testtesttest'"
      ]
     },
     "execution_count": 53,
     "metadata": {},
     "output_type": "execute_result"
    }
   ],
   "source": [
    "'test' * 3"
   ]
  },
  {
   "cell_type": "code",
   "execution_count": null,
   "id": "a4583f46-3485-43d1-941c-0e000ec5b62b",
   "metadata": {},
   "outputs": [],
   "source": []
  }
 ],
 "metadata": {
  "kernelspec": {
   "display_name": "Python 3 (ipykernel)",
   "language": "python",
   "name": "python3"
  },
  "language_info": {
   "codemirror_mode": {
    "name": "ipython",
    "version": 3
   },
   "file_extension": ".py",
   "mimetype": "text/x-python",
   "name": "python",
   "nbconvert_exporter": "python",
   "pygments_lexer": "ipython3",
   "version": "3.13.3"
  }
 },
 "nbformat": 4,
 "nbformat_minor": 5
}

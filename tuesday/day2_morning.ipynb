{
 "cells": [
  {
   "cell_type": "markdown",
   "id": "c84dea0f",
   "metadata": {},
   "source": [
    "# Introductory Programming with Python\n",
    "\n",
    "## Variables\n",
    "\n",
    "Before we jump into analyzing data, let’s talk about one of the most powerful tools in programming: ***variables***. Think of a variable like a storage box where you can put information that you might want to use later. This is how we make computers remember things for us!\n",
    "\n",
    "Let’s start with something simple. Imagine using Python like a calculator. You can do quick math, like this:"
   ]
  },
  {
   "cell_type": "code",
   "execution_count": null,
   "id": "d55e67aa",
   "metadata": {},
   "outputs": [],
   "source": [
    "#your code goes here"
   ]
  },
  {
   "cell_type": "markdown",
   "id": "6dfa6ed0",
   "metadata": {},
   "source": [
    "This is very handy, but let’s be honest, it’s not very exciting. What makes programming powerful is the ability to store this result or any other data, and use it again whenever we need it. That’s where variables come in.\n",
    "\n",
    "### What Is a Variable?\n",
    "A variable is a name that refers to a value. In the previous example, we saw that we can use Python as an advanced calculator. However, the results of these computations are lost after we perform our operations. If we want to save and reuse any value in a code, we need to save these computations in a place in computer memory to be able to access it in the future.\n",
    "\n",
    "Variables are names that we associate with a memory location in computers. As such variables are not values themselves but they point to a memory location where the actual values are stored."
   ]
  },
  {
   "cell_type": "code",
   "execution_count": null,
   "id": "4c01e3a8",
   "metadata": {},
   "outputs": [],
   "source": [
    "#your code goes here"
   ]
  },
  {
   "cell_type": "markdown",
   "id": "10377bde",
   "metadata": {},
   "source": [
    "Now, Python will remember that **weight_kg equals 60**. Instead of doing the math all over again or writing the number repeatedly, we just use weight_kg whenever we need it.\n",
    "\n",
    "**A Few Rules for Naming Variables:**\n",
    "- You can use **letters**, **digits**, and **underscores (_)**, but the name ***can’t*** start with a ***digit***.\n",
    "- Variable names are case-sensitive, so **weight** and **Weight** are two different things.\n",
    "\n",
    "For example:\n",
    "- **weight0** is valid, but **0weight** isn’t.\n",
    "- **weight_kg** is different from **Weight_kg**."
   ]
  },
  {
   "cell_type": "markdown",
   "id": "68d54c9e",
   "metadata": {},
   "source": [
    "### Types of Data in Python\n",
    "Python can work with different types of data. Three of the most common types are:\n",
    "\n",
    "- **Integers** (whole numbers like 1, 2, 100)\n",
    "- **Floating point numbers** (numbers with decimals like 2.5, 60.3)\n",
    "- **Strings** (text like \"Hello\", \"001\")\n",
    "- **Booleans** (True or False)"
   ]
  },
  {
   "cell_type": "markdown",
   "id": "66b5215d",
   "metadata": {},
   "source": [
    "For example, let’s say we want to store a patient’s weight. If the weight is exactly 60 kilograms, we can use an integer:"
   ]
  },
  {
   "cell_type": "code",
   "execution_count": null,
   "id": "2ac48790",
   "metadata": {},
   "outputs": [],
   "source": [
    "#your code goes here"
   ]
  },
  {
   "cell_type": "markdown",
   "id": "9e0f02ef",
   "metadata": {},
   "source": [
    "But if we want to be more precise, like 60.3 kilograms, we can use a floating point number:"
   ]
  },
  {
   "cell_type": "code",
   "execution_count": null,
   "id": "de18799a",
   "metadata": {},
   "outputs": [],
   "source": [
    "#your code goes here"
   ]
  },
  {
   "cell_type": "markdown",
   "id": "35e2d5d2",
   "metadata": {},
   "source": [
    "Here, *weight_kg* is a variable that stores a decimal number, or a **float**. It could represent any weight in kg measurement, which we might later use for calculations or comparisons."
   ]
  },
  {
   "cell_type": "markdown",
   "id": "c6f270ff",
   "metadata": {},
   "source": [
    "We can also store text:"
   ]
  },
  {
   "cell_type": "code",
   "execution_count": null,
   "id": "45397a0b",
   "metadata": {},
   "outputs": [],
   "source": [
    "#your code goes here"
   ]
  },
  {
   "cell_type": "markdown",
   "id": "17dac73f",
   "metadata": {},
   "source": [
    "**Strings** can store text data, which can be useful for labeling or adding metadata.\n",
    "\n",
    "And lastly, we have **booleans**, which are used to represent true or false values. They are helpful in logical operations or conditions:"
   ]
  },
  {
   "cell_type": "code",
   "execution_count": null,
   "id": "9f890944",
   "metadata": {},
   "outputs": [],
   "source": [
    "#your code goes here"
   ]
  },
  {
   "cell_type": "markdown",
   "id": "d5ae799f",
   "metadata": {},
   "source": [
    "With this variable, we could decide whether to apply certain calculations or adjustments based on the height. It can help us write cleaner, more conditional code."
   ]
  },
  {
   "cell_type": "markdown",
   "id": "50d6e641",
   "metadata": {},
   "source": [
    "## Basic Operations with Variables\n",
    "\n",
    "### Working with Numbers: Integers and Floats\n",
    "\n",
    "**Addition** is one of the simplest operations. If you want to increase a value, you just add to it. For example, if you have a population measurement of 20000 and want to add 5000 more, Python gives you a new population number of 25000 like this:"
   ]
  },
  {
   "cell_type": "code",
   "execution_count": null,
   "id": "529fb94a",
   "metadata": {},
   "outputs": [],
   "source": [
    "#your code goes here"
   ]
  },
  {
   "cell_type": "markdown",
   "id": "0381d244",
   "metadata": {},
   "source": [
    "Other operations are just as simple. If you want to double a temperature value, you multiply it by 2 like this:"
   ]
  },
  {
   "cell_type": "code",
   "execution_count": null,
   "id": "9196e1c2",
   "metadata": {},
   "outputs": [],
   "source": [
    "#your code goes here"
   ]
  },
  {
   "cell_type": "markdown",
   "id": "97d332a6",
   "metadata": {},
   "source": [
    "Division also works the same way: dividing 20000 by 100 gives 200.0 like this:"
   ]
  },
  {
   "cell_type": "code",
   "execution_count": null,
   "id": "3da7015c",
   "metadata": {},
   "outputs": [],
   "source": [
    "#your code goes here"
   ]
  },
  {
   "cell_type": "markdown",
   "id": "6d7f4ee9",
   "metadata": {},
   "source": [
    "Python can also handle exponents, like squaring numbers. If you want to find what 20000 times 20000 is, you can get it this way:"
   ]
  },
  {
   "cell_type": "code",
   "execution_count": null,
   "id": "6833b80a",
   "metadata": {},
   "outputs": [],
   "source": [
    "#your code goes here"
   ]
  },
  {
   "cell_type": "markdown",
   "id": "2732e8af",
   "metadata": {},
   "source": [
    " This is useful for calculating things like squared distances or other exponential relationships."
   ]
  },
  {
   "cell_type": "markdown",
   "id": "6ee84e9c",
   "metadata": {},
   "source": [
    " ### Exercise 1:\n",
    "You are studying urban growth in a geography class. City A had a population of 1,500,000 people in the year 2000, and it grew to 2,100,000 people by the year 2020.\n",
    "\n",
    "Your task is to write a Python program that:\n",
    "- Stores the population values in variables.\n",
    "- Calculates how much the population has grown.\n",
    "- Displays the result using print().\n"
   ]
  },
  {
   "cell_type": "code",
   "execution_count": null,
   "id": "dec23dcd",
   "metadata": {},
   "outputs": [],
   "source": [
    "#your code goes here"
   ]
  },
  {
   "cell_type": "markdown",
   "id": "bc2dbc2d",
   "metadata": {},
   "source": [
    "### Working with Strings\n",
    "With strings, one common thing we do is combine them, known as **concatenation**. Imagine you have two words, first name and last name, like \"John\" and \"Doe\", and you want to make them into one full name: \"John Doe.\" You do this by placing them side by side with a plus sign between them, and Python combines them into one."
   ]
  },
  {
   "cell_type": "code",
   "execution_count": null,
   "id": "9a3ac3d1",
   "metadata": {},
   "outputs": [],
   "source": [
    "#your code goes here"
   ]
  },
  {
   "cell_type": "markdown",
   "id": "ee16ab74",
   "metadata": {},
   "source": [
    "Another thing you can do with strings is **repeat** them. For instance, if you have the word \"hello,\" you could repeat it multiple times, like \"hello hello hello\" In Python, you simply tell it to multiply the word by the number of times you want it to appear like this:"
   ]
  },
  {
   "cell_type": "code",
   "execution_count": null,
   "id": "7b9bf729",
   "metadata": {},
   "outputs": [],
   "source": [
    "#your code goes here"
   ]
  },
  {
   "cell_type": "markdown",
   "id": "87e324a1",
   "metadata": {},
   "source": [
    "### Working with Booleans\n",
    "\n",
    "**Booleans** in Python are very straightforward: they represent only two options, *True or False*. They’re useful when you’re asking questions or checking if something meets certain conditions.\n",
    "\n",
    "For example, let’s say you want to check if a town’s population is above a certain number. Imagine the town has a population of 20,000 people, and you want to know if it’s larger than 10,000:"
   ]
  },
  {
   "cell_type": "code",
   "execution_count": null,
   "id": "79db2592",
   "metadata": {},
   "outputs": [],
   "source": [
    "#your code goes here"
   ]
  },
  {
   "cell_type": "markdown",
   "id": "b4be20ae",
   "metadata": {},
   "source": [
    "We can also ask Python to check **multiple conditions** at once. Maybe you want to know if a town has both a large population (over 10,000 people) and a low unemployment rate (under 5%). You can combine these two questions into one. If both are true, Python returns True; if either one isn’t, it returns False."
   ]
  },
  {
   "cell_type": "code",
   "execution_count": null,
   "id": "e1dc89a6",
   "metadata": {},
   "outputs": [],
   "source": [
    "#your code goes here"
   ]
  },
  {
   "cell_type": "markdown",
   "id": "b3e3f073",
   "metadata": {},
   "source": [
    "### Mixing Types Together\n",
    "\n",
    "Sometimes, Python lets us mix different types in ways that make sense. For example, in Python, *True is treated as 1 and False as 0*. So if you're working with a number and a condition, Python might add 1 if the condition is True, or add nothing if it's False. This can be handy for quick adjustments, like slightly increasing a value if a condition is met."
   ]
  },
  {
   "cell_type": "code",
   "execution_count": null,
   "id": "e8aeebdd",
   "metadata": {},
   "outputs": [],
   "source": [
    "#your code goes here"
   ]
  },
  {
   "cell_type": "markdown",
   "id": "87cf67f4",
   "metadata": {},
   "source": [
    "These simple operations let you do quite a bit in Python. With strings, you can create descriptive phrases; with numbers, you can add, multiply, and do more complex math; with booleans, you can check conditions and make decisions. This flexibility is what makes Python both powerful and beginner-friendly—it’s easy to write code that mimics real-world problem-solving, step by step."
   ]
  },
  {
   "cell_type": "markdown",
   "id": "1037022b",
   "metadata": {},
   "source": [
    "## Data Structures\n",
    "**Data structures** are essential for organizing and managing data in programming. In Python, we have several types of data structures, but three of the most commonly used ones are *lists, tuples, and dictionaries*. Each of these has unique characteristics and uses that make them suitable for different tasks.\n",
    "\n",
    "### Lists\n",
    "A **list** in Python is a collection of items that can be modified. This means you can add, remove, or change items in a list as needed. Lists are defined using square brackets []:"
   ]
  },
  {
   "cell_type": "code",
   "execution_count": null,
   "id": "b81d7382",
   "metadata": {},
   "outputs": [],
   "source": [
    "#your code goes here  "
   ]
  },
  {
   "cell_type": "markdown",
   "id": "c44dddbe",
   "metadata": {},
   "source": [
    "In this example, we have a list called **grades** that stores test scores from different students."
   ]
  },
  {
   "cell_type": "markdown",
   "id": "cb7d8f93",
   "metadata": {},
   "source": [
    "#### Using Lists:\n",
    "**1. Accessing Lists:** Each item in a list has a position called an index, starting from 0. You can access any item using its index:"
   ]
  },
  {
   "cell_type": "code",
   "execution_count": null,
   "id": "9f904339",
   "metadata": {},
   "outputs": [],
   "source": [
    "#your code goes here"
   ]
  },
  {
   "cell_type": "markdown",
   "id": "2bf085d3",
   "metadata": {},
   "source": [
    "**2. Modifying Items:** Lists are mutable, meaning you can change their contents:"
   ]
  },
  {
   "cell_type": "code",
   "execution_count": null,
   "id": "dd50e10a",
   "metadata": {},
   "outputs": [],
   "source": [
    "#your code goes here"
   ]
  },
  {
   "cell_type": "markdown",
   "id": "e34506e2",
   "metadata": {},
   "source": [
    "**3. Adding Items:** You can add new items to the end of a list using the ***append()*** method:"
   ]
  },
  {
   "cell_type": "code",
   "execution_count": null,
   "id": "f8d7aef5",
   "metadata": {},
   "outputs": [],
   "source": [
    "#your code goes here"
   ]
  },
  {
   "cell_type": "markdown",
   "id": "a29193da",
   "metadata": {},
   "source": [
    "**4. Removing Items:** You can remove items from a list using the **remove()** method or the **pop()** method:"
   ]
  },
  {
   "cell_type": "code",
   "execution_count": null,
   "id": "21a39311",
   "metadata": {},
   "outputs": [],
   "source": [
    "#your code goes here"
   ]
  },
  {
   "cell_type": "code",
   "execution_count": null,
   "id": "966e6ba5",
   "metadata": {},
   "outputs": [],
   "source": [
    "#your code goes here"
   ]
  },
  {
   "cell_type": "markdown",
   "id": "ec86ea3a",
   "metadata": {},
   "source": [
    "Consider a scenario where you are recording student test scores for a class. You can store these scores in a list. As new test results come in, you can easily update the list by adding new scores or modifying existing ones."
   ]
  },
  {
   "cell_type": "markdown",
   "id": "6e48f72b",
   "metadata": {},
   "source": [
    "### Exercise 2\n",
    "- Create a list named *philosophers* that contains these names as strings:\n",
    "*\"Plato\", \"Aristotle\", \"Confucius\",* and *\"Socrates\"*.\n",
    "- Add the philosopher *\"Descartes\"* to the end of the list.\n",
    "- Remove \"Confucius\" from the list.\n",
    "- Print the updated list to see the changes."
   ]
  },
  {
   "cell_type": "code",
   "execution_count": null,
   "id": "ab20b47c",
   "metadata": {},
   "outputs": [],
   "source": [
    "#your code goes here"
   ]
  },
  {
   "cell_type": "markdown",
   "id": "c876258b",
   "metadata": {},
   "source": [
    "### Tuples\n",
    "A **tuple** is a collection of items, similar to a list, but it is ***immutable***. This means that once a tuple is created, it *cannot be changed*. Tuples are defined using parentheses ()."
   ]
  },
  {
   "cell_type": "code",
   "execution_count": null,
   "id": "6a6c883f",
   "metadata": {},
   "outputs": [],
   "source": [
    "#your code goes here"
   ]
  },
  {
   "cell_type": "markdown",
   "id": "acc27a72",
   "metadata": {},
   "source": [
    "This tuple represents the geographic coordinates of a specific location."
   ]
  },
  {
   "cell_type": "markdown",
   "id": "686d8298",
   "metadata": {},
   "source": [
    "#### Using Tuples:\n",
    "\n",
    "**1. Accessing Items:** Just like lists, you can access items in a tuple using their index:"
   ]
  },
  {
   "cell_type": "code",
   "execution_count": null,
   "id": "038c6455",
   "metadata": {},
   "outputs": [],
   "source": [
    "#your code goes here"
   ]
  },
  {
   "cell_type": "code",
   "execution_count": null,
   "id": "2883f2ef",
   "metadata": {},
   "outputs": [],
   "source": [
    "#your code goes here"
   ]
  },
  {
   "cell_type": "markdown",
   "id": "85e96ed2",
   "metadata": {},
   "source": [
    "**2. Benefits of Immutability:** Since tuples cannot be changed, they are useful for storing fixed data that should not be altered. This can help prevent accidental changes to important values. \n",
    "\n",
    "In oceanography, you might want to store the coordinates of a specific research station. Since these coordinates are fixed and won’t change, a tuple is the ideal choice. If you need to reference these coordinates later in your code, you can do so confidently, knowing they will not change."
   ]
  },
  {
   "cell_type": "markdown",
   "id": "1b5888df",
   "metadata": {},
   "source": [
    "### Dictionaries \n",
    "A **dictionary** in Python is a collection of ***key-value pairs***, similar to how a real dictionary has words (keys) and their meanings (values). Each key in a dictionary must be unique, and you can use it to access its corresponding value. Dictionaries are defined using curly braces {}."
   ]
  },
  {
   "cell_type": "code",
   "execution_count": null,
   "id": "70ea110b",
   "metadata": {},
   "outputs": [],
   "source": [
    "#your code goes here"
   ]
  },
  {
   "cell_type": "markdown",
   "id": "67253dcd",
   "metadata": {},
   "source": [
    "In this example, we have a dictionary called student_data that stores various pieces of information about a student's academic details."
   ]
  },
  {
   "cell_type": "markdown",
   "id": "b45c009c",
   "metadata": {},
   "source": [
    "#### Using Dictionaries:\n",
    "\n",
    "**1. Accessing Values:** You can retrieve a value using its corresponding key."
   ]
  },
  {
   "cell_type": "code",
   "execution_count": null,
   "id": "dd54d0fb",
   "metadata": {},
   "outputs": [],
   "source": [
    "#your code goes here "
   ]
  },
  {
   "cell_type": "markdown",
   "id": "cbe73ce6",
   "metadata": {},
   "source": [
    "**2. Adding or Modifying Values:** You can easily add new key-value pairs or modify existing ones:"
   ]
  },
  {
   "cell_type": "code",
   "execution_count": null,
   "id": "104bc609",
   "metadata": {},
   "outputs": [],
   "source": [
    "#Modify Existing one\n",
    "#your code goes here "
   ]
  },
  {
   "cell_type": "code",
   "execution_count": null,
   "id": "87d77bba",
   "metadata": {},
   "outputs": [],
   "source": [
    "#Adding new key-value pair\n",
    "#your code goes here "
   ]
  },
  {
   "cell_type": "markdown",
   "id": "5c7d8e5e",
   "metadata": {},
   "source": [
    "**3. Removing Key-Value Pairs:** You can remove a key-value pair using the **del** statement:"
   ]
  },
  {
   "cell_type": "code",
   "execution_count": null,
   "id": "59358851",
   "metadata": {},
   "outputs": [],
   "source": [
    "#your code goes here"
   ]
  },
  {
   "cell_type": "markdown",
   "id": "6dd06a3d",
   "metadata": {},
   "source": [
    "### Exercise 3\n",
    "1. Create a dictionary named countries with these key-value pairs:\n",
    "- \"United States\" : \"English\"\n",
    "- \"Mexico\" : \"Spanish\"\n",
    "- \"France\" : \"French\"\n",
    "- \"Canada\" : \"English and French\"\n",
    "\n",
    "2. Add a new entry to the dictionary: \"Brazil\" : \"Portuguese\"\n",
    "3. Remove the key \"France\" and its value using the del statement.\n",
    "4. Print the updated dictionary every time.\n"
   ]
  },
  {
   "cell_type": "code",
   "execution_count": null,
   "id": "a069038e",
   "metadata": {},
   "outputs": [],
   "source": [
    "#your code goes here"
   ]
  },
  {
   "cell_type": "markdown",
   "id": "583f42d1",
   "metadata": {
    "jp-MarkdownHeadingCollapsed": true
   },
   "source": [
    "#### Choosing the Right Data Structure\n",
    "\n",
    "Selecting the appropriate data structure is crucial. Here’s a quick guide:\n",
    "\n",
    "- **Use Lists** when you need to store a collection of items that you might want to change or add to, like student grades over multiple subjects or assignments.\n",
    "\n",
    "- **Use Tuples** for fixed data points that won't change, such as geographic coordinates of research locations.\n",
    "\n",
    "- **Use Dictionaries** when you need to associate related information together, such as all academic details for a specific student.\n",
    "\n",
    "Choosing the right data structure will make your data management more efficient and your code easier to understand."
   ]
  },
  {
   "cell_type": "markdown",
   "id": "1954e261",
   "metadata": {},
   "source": [
    "## Control Structures\n",
    "**Control structures** are essential programming constructs that allow us to dictate the flow of our program. In Python, the most commonly used control structures include loops (for and while) and conditionals (if and else). These structures enable us to repeat actions, make decisions based on conditions, and manage how we process data.\n",
    "\n",
    "### Conditionals\n",
    "**Conditionals** allow us to execute certain blocks of code based on specific conditions. This means that our program can make decisions and act differently depending on the situation. The most common conditional statements in Python are *if, elif, and else*.\n",
    "\n",
    "#### Basic Structure of Conditionals:\n",
    "\n",
    "Here’s a simple structure for using conditionals:"
   ]
  },
  {
   "cell_type": "raw",
   "id": "9b9373d9",
   "metadata": {},
   "source": [
    "if condition:\n",
    "    # Code to execute if the condition is true\n",
    "elif another_condition:\n",
    "    # Code to execute if the first condition is false and this one is true\n",
    "else:\n",
    "    # Code to execute if both conditions are false"
   ]
  },
  {
   "cell_type": "markdown",
   "id": "16287297",
   "metadata": {},
   "source": [
    "#### Comparison Operators\n",
    "\n",
    "Comparison operators allow us to compare two values. Here are the most commonly used comparison operators in Python:"
   ]
  },
  {
   "cell_type": "raw",
   "id": "1e855d93",
   "metadata": {},
   "source": [
    "==:  Equal to (checks if two values are the same)\n",
    "!=:  Not equal to (checks if two values are different)\n",
    " >:  Greater than (checks if the left value is larger than the right)\n",
    " <:  Less than (checks if the left value is smaller than the right)\n",
    ">=:  Greater than or equal to (checks if the left value is larger than or equal to the right)\n",
    "<=:  Less than or equal to (checks if the left value is smaller than or equal to the right)"
   ]
  },
  {
   "cell_type": "markdown",
   "id": "91746d31",
   "metadata": {},
   "source": [
    "Let’s say we want to categorize towns based on their population size:"
   ]
  },
  {
   "cell_type": "code",
   "execution_count": null,
   "id": "1b0c54ca",
   "metadata": {},
   "outputs": [],
   "source": [
    "#your code goes here"
   ]
  },
  {
   "cell_type": "markdown",
   "id": "9b1969cc",
   "metadata": {},
   "source": [
    "In this example:\n",
    "\n",
    "- If the population is less than 5,000, it prints \"Small town.\"\n",
    "- If the population is between 5,000 and 20,000 (inclusive), it prints \"Medium-sized town.\"\n",
    "- If the population is over 20,000, it prints \"Large town.\""
   ]
  },
  {
   "cell_type": "markdown",
   "id": "e2814968",
   "metadata": {},
   "source": [
    "#### Logical Operators\n",
    "\n",
    "**Logical operators** allow us to combine multiple conditions. The most commonly used logical operators are:\n",
    "\n",
    "- **and:** Returns True if both conditions are true.\n",
    "- **or:** Returns True if at least one condition is true.\n",
    "- **not:** Reverses the truth value (makes True become False and vice versa).\n",
    "\n",
    "Let’s say we want to check if someone’s annual income falls within the middle-income bracket:"
   ]
  },
  {
   "cell_type": "code",
   "execution_count": null,
   "id": "0ce6c3bc",
   "metadata": {},
   "outputs": [],
   "source": [
    "#your code goes here"
   ]
  },
  {
   "cell_type": "markdown",
   "id": "b84129e1",
   "metadata": {},
   "source": [
    "In this example:\n",
    "\n",
    "- The condition annual_income >= 30000 and annual_income <= 70000 checks if the income is between 30,000 and 70,000 inclusive.\n",
    "- If both are true, it prints \"Middle-income bracket.\""
   ]
  },
  {
   "cell_type": "markdown",
   "id": "b43ffc47",
   "metadata": {},
   "source": [
    "### Loops\n",
    "**Loops** allow us to repeat a block of code multiple times. This is especially useful when we have to process a collection of items, like a list of temperature readings or salinity measurements. The two primary types of loops in Python are ***for loops*** and ***while loops***.\n",
    "\n",
    "#### For Loops:\n",
    "A ***for loop*** is used to iterate over a sequence (like a list or a tuple). Here’s the basic structure:"
   ]
  },
  {
   "cell_type": "raw",
   "id": "21bb26bd",
   "metadata": {},
   "source": [
    "for item in sequence:\n",
    "    # Code to execute for each item"
   ]
  },
  {
   "cell_type": "markdown",
   "id": "e68fd72a",
   "metadata": {},
   "source": [
    "Let’s say we want to print out each survey response score from a list:"
   ]
  },
  {
   "cell_type": "code",
   "execution_count": null,
   "id": "e4998ef8",
   "metadata": {},
   "outputs": [],
   "source": [
    "#your code goes here"
   ]
  },
  {
   "cell_type": "markdown",
   "id": "ca266aca",
   "metadata": {},
   "source": [
    "In this example, the loop goes through each item in the **survey_scores** list and prints it.\n",
    "\n",
    "For loops are useful for analyzing data, such as calculating the average monthly income from several months:"
   ]
  },
  {
   "cell_type": "code",
   "execution_count": null,
   "id": "d9a13343",
   "metadata": {},
   "outputs": [],
   "source": [
    "monthly_incomes = [3000, 3200, 3100, 2900, 4000, 3500, 2500, 2900, 3050, 3200, 3500, 2950]\n",
    "#your code goes here"
   ]
  },
  {
   "cell_type": "markdown",
   "id": "534843f8",
   "metadata": {},
   "source": [
    "In this case, the loop adds up all the monthly incomes and then finds the average by dividing by the number of months."
   ]
  },
  {
   "cell_type": "markdown",
   "id": "9496cbfe",
   "metadata": {},
   "source": [
    "### Exercise 4 \n",
    "1. You are given a list named populations that contains population numbers (in thousands).\n",
    "2. Use a for loop to add all the population numbers together and store the total in a variable called total_population.\n",
    "3. Calculate the average population by dividing the total population.\n",
    "4. Print the average population rounded to the nearest whole number."
   ]
  },
  {
   "cell_type": "code",
   "execution_count": null,
   "id": "4f8c3d7b",
   "metadata": {},
   "outputs": [],
   "source": [
    "populations = [2731, 631, 1135, 934, 1705]\n",
    "\n",
    "#your code goes here"
   ]
  },
  {
   "cell_type": "markdown",
   "id": "8766196d",
   "metadata": {},
   "source": [
    "#### While Loops\n",
    "A while loop continues to execute as long as a specified condition is true. The basic structure looks like this:"
   ]
  },
  {
   "cell_type": "raw",
   "id": "16e55042",
   "metadata": {},
   "source": [
    "while condition:\n",
    "    # Code to execute while the condition is true"
   ]
  },
  {
   "cell_type": "markdown",
   "id": "3dd6d689",
   "metadata": {},
   "source": [
    "Let’s say we want to keep recording monthly expenses until we have data for five months:"
   ]
  },
  {
   "cell_type": "code",
   "execution_count": null,
   "id": "98409668",
   "metadata": {},
   "outputs": [],
   "source": [
    "#your code goes here"
   ]
  },
  {
   "cell_type": "markdown",
   "id": "738888ea",
   "metadata": {},
   "source": [
    "In this example, the loop keeps asking for monthly expenses until it has collected five amounts.\n",
    "\n",
    "While loops are useful for continuous data collection, like tracking monthly donations until reaching a target amount:"
   ]
  },
  {
   "cell_type": "code",
   "execution_count": null,
   "id": "91478cc4",
   "metadata": {},
   "outputs": [],
   "source": [
    "#your code goes here"
   ]
  },
  {
   "cell_type": "markdown",
   "id": "4094ecfb",
   "metadata": {},
   "source": [
    "### Combining Loops and Conditionals\n",
    "Often, we will need to use both loops and conditionals together to process data effectively. For example, you might want to analyze temperature readings and categorize them within a loop.\n",
    "\n",
    "Let’s categorize a list of temperature readings as *\"Cold,\" \"Warm,\" or \"Hot\"*:"
   ]
  },
  {
   "cell_type": "code",
   "execution_count": null,
   "id": "b74bc350",
   "metadata": {},
   "outputs": [],
   "source": [
    "#your code goes here"
   ]
  },
  {
   "cell_type": "markdown",
   "id": "5ffae395",
   "metadata": {},
   "source": [
    "In this example, the loop goes through each temperature reading, and the conditional statements categorize each temperature accordingly."
   ]
  },
  {
   "cell_type": "markdown",
   "id": "81e4247e",
   "metadata": {},
   "source": [
    "Now, let’s say we want to use a loop to analyze data stored in a dictionary. We have a dictionary of historical events and the years they happened. Using a for loop, we can go through each event and year, and use a control structure like an if statement to check whether the event happened before or after 1900."
   ]
  },
  {
   "cell_type": "code",
   "execution_count": null,
   "id": "8a23d133",
   "metadata": {},
   "outputs": [],
   "source": [
    "#your code goes here"
   ]
  },
  {
   "cell_type": "markdown",
   "id": "0a4f1a17",
   "metadata": {},
   "source": [
    "### Exercise 5\n",
    "You are given a dictionary of universities worldwide with their average graduation rates (in percentages):\n",
    "\n",
    "universities = {\n",
    "    \"Harvard University\": 98,\n",
    "    \n",
    "    \"University of Oxford\": 92,\n",
    "    \n",
    "    \"Stanford University\": 94,\n",
    "    \n",
    "    \"Massachusetts Institute of Technology (MIT)\": 92,\n",
    "    \n",
    "    \"University of Cambridge\": 93,\n",
    "    \n",
    "    \"University of Tokyo\": 70,\n",
    "    \n",
    "    \"University of Melbourne\": 79,\n",
    "    \n",
    "    \"University of Cape Town\": 68,\n",
    "    \n",
    "    \"University of São Paulo\": 65,\n",
    "    \n",
    "    \"National University of Singapore\": 80\n",
    "}\n",
    "\n",
    "**Task:**\n",
    "\n",
    "1. Loop through each university and its graduation rate.\n",
    "2. Print the university name and its graduation rate.\n",
    "3. Use conditional statements to classify the graduation rate:\n",
    "    - 90% or above: print \"Excellent graduation rate\".\n",
    "    - Between 75% and 89% (inclusive): print \"Good graduation rate\".\n",
    "    - Below 75%: print \"Needs improvement\"."
   ]
  },
  {
   "cell_type": "code",
   "execution_count": null,
   "id": "cfa4cbcb",
   "metadata": {},
   "outputs": [],
   "source": [
    "#your code goes here"
   ]
  }
 ],
 "metadata": {
  "kernelspec": {
   "display_name": "Python 3 (ipykernel)",
   "language": "python",
   "name": "python3"
  }
 },
 "nbformat": 4,
 "nbformat_minor": 5
}